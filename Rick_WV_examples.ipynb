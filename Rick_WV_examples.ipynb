{
 "cells": [
  {
   "cell_type": "markdown",
   "metadata": {},
   "source": [
    "The goal of this notebook is to examine interactions of wave packets and vortices in the case of a doubly periodic infinite (in reality finite) domain. \n",
    "\n",
    "Specifically, we are looking for any interesting scenarios that may arise. \n",
    "\n",
    "Below I will catologue this. The equations of motion are available in Rick's notes. "
   ]
  },
  {
   "cell_type": "code",
   "execution_count": null,
   "metadata": {},
   "outputs": [],
   "source": []
  }
 ],
 "metadata": {
  "kernelspec": {
   "display_name": "MATLAB",
   "language": "matlab",
   "name": "imatlab"
  },
  "language_info": {
   "codemirror_mode": "octave",
   "file_extension": ".m",
   "mimetype": "text/x-matlab",
   "name": "matlab",
   "nbconvert_exporter": "imatlab._exporter.MatlabExporter",
   "pygments_lexer": "matlab",
   "version": "9.9.0.1495850 (R2020b) Update 1"
  }
 },
 "nbformat": 4,
 "nbformat_minor": 4
}
